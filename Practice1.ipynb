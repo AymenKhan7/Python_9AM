{
 "cells": [
  {
   "cell_type": "code",
   "execution_count": 2,
   "id": "ce2548e3-99ac-42b9-81cb-ea0829d77cbd",
   "metadata": {},
   "outputs": [
    {
     "data": {
      "text/plain": [
       "'hello world'"
      ]
     },
     "execution_count": 2,
     "metadata": {},
     "output_type": "execute_result"
    }
   ],
   "source": [
    "str1='hello'\n",
    "str2='world'\n",
    "str1+' '+str2"
   ]
  },
  {
   "cell_type": "code",
   "execution_count": 4,
   "id": "92517921-99a2-45a3-bf8f-49e642c4e166",
   "metadata": {},
   "outputs": [
    {
     "name": "stdout",
     "output_type": "stream",
     "text": [
      "Lorem ipsum dolor sit amet,consectetur adipiscing elit,\n",
      "sed do eiusmod tempor incididunt\n",
      "ut labore et dolore magna aliqua.\n"
     ]
    }
   ],
   "source": [
    "a = '''Lorem ipsum dolor sit amet,consectetur adipiscing elit,\n",
    "sed do eiusmod tempor incididunt\n",
    "ut labore et dolore magna aliqua.'''\n",
    "print(a)"
   ]
  },
  {
   "cell_type": "code",
   "execution_count": 5,
   "id": "68c531af-9468-407c-8333-e07335707773",
   "metadata": {},
   "outputs": [
    {
     "name": "stdout",
     "output_type": "stream",
     "text": [
      "b\n",
      "a\n",
      "n\n",
      "a\n",
      "n\n",
      "a\n"
     ]
    }
   ],
   "source": [
    "for x in \"banana\":\n",
    "  print(x)"
   ]
  },
  {
   "cell_type": "code",
   "execution_count": 7,
   "id": "14c7f9a2-143e-4bc6-ae88-2e7aa92b1d13",
   "metadata": {},
   "outputs": [
    {
     "name": "stdout",
     "output_type": "stream",
     "text": [
      "b\n",
      "a\n",
      "n\n",
      "a\n",
      "n\n",
      "a\n"
     ]
    }
   ],
   "source": [
    "n = 'banana'\n",
    "n1 = len(n)\n",
    "for i in range(n1):\n",
    "    print(n[i])"
   ]
  },
  {
   "cell_type": "code",
   "execution_count": 8,
   "id": "cadc6038-8a26-4912-b920-00ad0998c9fe",
   "metadata": {},
   "outputs": [
    {
     "name": "stdout",
     "output_type": "stream",
     "text": [
      "13\n"
     ]
    }
   ],
   "source": [
    "a = \"Hello, World!\"\n",
    "a1=len(a)\n",
    "print(a1)"
   ]
  },
  {
   "cell_type": "code",
   "execution_count": 9,
   "id": "97de0356-11c4-4774-9b38-2b09cac60032",
   "metadata": {},
   "outputs": [
    {
     "name": "stdout",
     "output_type": "stream",
     "text": [
      "13\n"
     ]
    }
   ],
   "source": [
    "a = \"Hello, World!\"\n",
    "print(len(a))"
   ]
  },
  {
   "cell_type": "code",
   "execution_count": 10,
   "id": "3c5186a4-87e5-4be0-a3b2-6efa0dfdbcba",
   "metadata": {},
   "outputs": [
    {
     "name": "stdout",
     "output_type": "stream",
     "text": [
      "True\n"
     ]
    }
   ],
   "source": [
    "txt = \"The best things in life are free!\"\n",
    "print(\"free\" in txt)"
   ]
  },
  {
   "cell_type": "code",
   "execution_count": 16,
   "id": "c42e7869-98a1-4a5e-acc3-811e2a47fd23",
   "metadata": {},
   "outputs": [
    {
     "name": "stdout",
     "output_type": "stream",
     "text": [
      "Yes, 't' is present.\n"
     ]
    }
   ],
   "source": [
    "txt = \"The best things in life are free!\"\n",
    "if \"t\" in txt:\n",
    "  print(\"Yes, 't' is present.\")\n",
    "else:\n",
    "    print(\"No, 't' is not present.\")"
   ]
  },
  {
   "cell_type": "code",
   "execution_count": 17,
   "id": "b6cf1df8-627a-4ae9-98b8-82545ef87978",
   "metadata": {},
   "outputs": [
    {
     "name": "stdout",
     "output_type": "stream",
     "text": [
      "True\n"
     ]
    }
   ],
   "source": [
    "txt = \"The best things in life are free!\"\n",
    "print(\"expensive\" not in txt)"
   ]
  },
  {
   "cell_type": "code",
   "execution_count": 19,
   "id": "2cfed347-5689-4fe3-b695-36a193afb81d",
   "metadata": {},
   "outputs": [
    {
     "name": "stdout",
     "output_type": "stream",
     "text": [
      "'Guns' not in the txt\n"
     ]
    }
   ],
   "source": [
    "txt = \"The best things in life are free!\"\n",
    "if 'guns'not in txt:\n",
    "    print(\"'Guns' not in the txt\")"
   ]
  },
  {
   "cell_type": "code",
   "execution_count": 20,
   "id": "f360fab2-b3f0-4b5e-bb4f-7cf39be3a97f",
   "metadata": {},
   "outputs": [
    {
     "name": "stdout",
     "output_type": "stream",
     "text": [
      "ymen k\n"
     ]
    }
   ],
   "source": [
    "a = 'aymen khan'\n",
    "print (a[1:7])"
   ]
  },
  {
   "cell_type": "code",
   "execution_count": 21,
   "id": "b7275bac-24aa-44d4-9fb2-01a8034e5989",
   "metadata": {},
   "outputs": [
    {
     "name": "stdout",
     "output_type": "stream",
     "text": [
      "Hello\n"
     ]
    }
   ],
   "source": [
    "b = \"Hello, World!\"\n",
    "print(b[:5])"
   ]
  },
  {
   "cell_type": "code",
   "execution_count": 22,
   "id": "25a86d41-76f7-480d-9a73-2083b6e24485",
   "metadata": {},
   "outputs": [
    {
     "name": "stdout",
     "output_type": "stream",
     "text": [
      "llo, World!\n"
     ]
    }
   ],
   "source": [
    "b = \"Hello, World!\"\n",
    "print(b[2:])"
   ]
  },
  {
   "cell_type": "code",
   "execution_count": 23,
   "id": "c2698405-80cb-4d3f-9bbb-1101339b8bb0",
   "metadata": {},
   "outputs": [
    {
     "name": "stdout",
     "output_type": "stream",
     "text": [
      "orl\n"
     ]
    }
   ],
   "source": [
    "b = \"Hello, World!\"\n",
    "print(b[-5:-2])"
   ]
  },
  {
   "cell_type": "code",
   "execution_count": 24,
   "id": "94911a26-50b8-4b75-b0f2-39d261f71a15",
   "metadata": {},
   "outputs": [
    {
     "name": "stdout",
     "output_type": "stream",
     "text": [
      "HELLO, WORLD!\n"
     ]
    }
   ],
   "source": [
    "a = \"Hello, World!\"\n",
    "print(a.upper())"
   ]
  },
  {
   "cell_type": "markdown",
   "id": "1cb7211d-93c3-42e7-9950-96e1a2bc4f74",
   "metadata": {},
   "source": [
    "**List Concentration**"
   ]
  },
  {
   "cell_type": "code",
   "execution_count": 10,
   "id": "602ab4e2-a668-4940-8860-b7ae41672847",
   "metadata": {},
   "outputs": [
    {
     "data": {
      "text/plain": [
       "['HYD', 'blr', 'Chennai', 'PUNE', 'sds']"
      ]
     },
     "execution_count": 10,
     "metadata": {},
     "output_type": "execute_result"
    }
   ],
   "source": [
    "# l=['HYD','blr','Chennai','PUNE']\n",
    "# p=['HYD','PUNE']\n",
    "# for i in l:\n",
    "#     if i.isupper():\n",
    "#         p.append(l)\n",
    "\n",
    "l=['HYD','blr','Chennai','PUNE','sds']\n",
    "\n",
    "l"
   ]
  },
  {
   "cell_type": "code",
   "execution_count": 12,
   "id": "bfc8912e-ba7d-44e7-a739-f1d28f44986a",
   "metadata": {},
   "outputs": [
    {
     "data": {
      "text/plain": [
       "['HYD', 'PUNE']"
      ]
     },
     "execution_count": 12,
     "metadata": {},
     "output_type": "execute_result"
    }
   ],
   "source": [
    "[i for i in l if i.isupper()]"
   ]
  },
  {
   "cell_type": "code",
   "execution_count": 20,
   "id": "9432f271-8b06-43d7-902b-2a096bd438ed",
   "metadata": {},
   "outputs": [
    {
     "data": {
      "text/plain": [
       "['louis@media.berkeley.edu', 'ray@media.berkeley.edu', 'cwen@iupui.edu']"
      ]
     },
     "execution_count": 20,
     "metadata": {},
     "output_type": "execute_result"
    }
   ],
   "source": [
    "m='From: louis@media.berkeley.edu ', 'From ray@media.berkeley.edu Thu Jan  3 17:07:00 2008 ', 'From: ray@media.berkeley.edu ', 'From cwen@iupui.edu Thu Jan  3 16:34:40 2008 ', 'From: cwen@iupui.edu ', 'From cwen@iupui.edu Thu Jan  3 16:29:07 2008 ', 'From: cwen@iupui.edu ', 'From cwen@iupui.edu Thu Jan  3 16:23:48 2008 ', 'From: cwen@iupui.edu '\n",
    "r=[]\n",
    "for i in m:\n",
    "    s=i.index(' ')\n",
    "    p=i.index(' ',s+1)\n",
    "    r.append(i[s+1:p])\n",
    "r\n",
    "e=[]\n",
    "for i in r:\n",
    "    if i not in e:\n",
    "        e.append(i)\n",
    "e"
   ]
  },
  {
   "cell_type": "code",
   "execution_count": null,
   "id": "fd80785a-eea4-46e5-a5ce-5f364165cd9d",
   "metadata": {},
   "outputs": [],
   "source": [
    "a=['Santhanam, Jayendhran <jayendhran.ms@accenture.com>; Bhattacharjee, Sankalan <s.t.bhattacharjee@accenture.com>; Bansal, Vaishnavi <vaishnavi.a.bansal@accenture.com>; Chandra Shekhar, Pavuluri <p.a.chandra.shekhar@accenture.com>; J Doshi, Hiren <hiren.j.doshi@accenture.com>; Shimoga Prakash, Jeevan <j.shimoga.prakash@accenture.com>; Akhouri, Shreyash <shreyash.akhouri@accenture.com>; Nath, Nupanga <nupanga.nath@accenture.com>; Ponna, Ramesh <r.ponna@accenture.com>; Singhal, Aditya <aditya.d.singhal@accenture.com>; Gorai, Sumit <sumit.gorai@accenture.com>; Valdez, Mariele Dyan Francely <mariele.dyan.valdez@accenture.com>; Cancel, Abigail Kyle <abigail.kyle.cancel@accenture.com>; BONDALAKUNTA, POOJITHA <p.bondalakunta@accenture.com>; priyanka uppala, sai <sai.priyanka.uppala@accenture.com>; Nitin SHINDE, NIKHIL <nikhil.nitin.shinde@accenture.com>; Chidre, Swapna <swapna.chidre@accenture.com>; Sahu, Swastik <s.satyapragyan.sahu@accenture.com>; Sikka, Ankit <ankit.sikka@accenture.com>; Dara, Sai Madhukar <sai.madhukar.dara@accenture.com>; Pattanshetti, Sampreet <s.pattanshetti@accenture.com>; Sharma, Ayush <ayush.ad.sharma@accenture.com>; Latorena, Zairous Jay <zairous.jay.latorena@accenture.com>; Abhimanyu Pradhan, Roshankumar <r.abhimanyu.pradhan@accenture.com>; Jaiswal, Lehar <lehar.jaiswal@accenture.com>; Gupta, Retik <retik.gupta@accenture.com>; Satti, Phanindra Reddy <phanindra.r.satti@accenture.com>; Kumar, Manish <manish.dw.kumar@accenture.com>; Balakrishnan, Devi Priya <devi.p.balakrishnan@accenture.com>; M S, Roshni Priya <roshni.priya.m.s@accenture.com>; Cheerala, Vanaja <vanaja.cheerala@accenture.com>; G D, Chandrashekhar <chandrashekhar.g.d@accenture.com>; Nikhil Reddy, Madithati <m.nikhil.reddy@accenture.com>; Santos, Jeroshelle V. <jeroshelle.v.santos@accenture.com>; Milan, Gerald John <gerald.john.milan@accenture.com>; Gupta, Vivek <vivek.u.gupta@accenture.com>; Mandal, Sumit <s.sunilkumar.mandal@accenture.com>; Prakash Shukla, Ashok <ashok.prakash.shukla@accenture.com>; Naganathan, Siva <sivakumar.naganathan@accenture.com>; GAHLOT, NIKHIL <nikhil.gahlot@accenture.com>; Kanjilal, Sourav <s.a.kanti.kanjilal@accenture.com>; Nallagoni, Omkar <omkar.nallagoni@accenture.com>; Sahajan, Sandra <sandra.sahajan@accenture.com>; Nelluri, Chaitanya <chaitanya.nelluri@accenture.com>']\n"
   ]
  },
  {
   "cell_type": "code",
   "execution_count": 22,
   "id": "8f900e6d-69ec-4af0-a955-6088b43d42e9",
   "metadata": {},
   "outputs": [
    {
     "data": {
      "text/plain": [
       "2.0"
      ]
     },
     "execution_count": 22,
     "metadata": {},
     "output_type": "execute_result"
    }
   ],
   "source": [
    "avg = lambda n1,n2,n3 : (n1+n2+n3)/3\n",
    "avg(1,2,3)"
   ]
  },
  {
   "cell_type": "code",
   "execution_count": 46,
   "id": "bdd80933-460c-4592-9cfd-5055eb218ca6",
   "metadata": {},
   "outputs": [
    {
     "name": "stdout",
     "output_type": "stream",
     "text": [
      "205.0\n"
     ]
    }
   ],
   "source": [
    "pay = lambda n1,n2,tip_per : (n2/100)* n1+tip_per\n",
    "print(pay(2000,10,5))"
   ]
  },
  {
   "cell_type": "code",
   "execution_count": 50,
   "id": "928b4ab3-9e1e-4980-95d5-ad0f35f0edb4",
   "metadata": {},
   "outputs": [
    {
     "data": {
      "text/plain": [
       "1200"
      ]
     },
     "execution_count": 50,
     "metadata": {},
     "output_type": "execute_result"
    }
   ],
   "source": [
    "pay = lambda bill,tip: bill+bill*tip/100\n",
    "pay(1000,20)\n"
   ]
  },
  {
   "cell_type": "code",
   "execution_count": 49,
   "id": "9fdec2cf-c356-4c1f-a973-c1d3ee6d3891",
   "metadata": {},
   "outputs": [
    {
     "data": {
      "text/plain": [
       "2300.0"
      ]
     },
     "execution_count": 49,
     "metadata": {},
     "output_type": "execute_result"
    }
   ],
   "source": [
    "pay(2000,15)"
   ]
  },
  {
   "cell_type": "code",
   "execution_count": 40,
   "id": "5ea42ad4-0eba-4c92-b233-42e3ab9a91c6",
   "metadata": {},
   "outputs": [
    {
     "data": {
      "text/plain": [
       "9.87"
      ]
     },
     "execution_count": 40,
     "metadata": {},
     "output_type": "execute_result"
    }
   ],
   "source": [
    "import math\n",
    "pi=math.pi\n",
    "area = lambda radius: round(pi**radius,2)\n",
    "area(2)"
   ]
  },
  {
   "cell_type": "code",
   "execution_count": 11,
   "id": "57a6e17d-6749-4d1f-a4c2-8a345c17194f",
   "metadata": {},
   "outputs": [
    {
     "ename": "SyntaxError",
     "evalue": "invalid syntax (116346081.py, line 2)",
     "output_type": "error",
     "traceback": [
      "\u001b[1;36m  Cell \u001b[1;32mIn[11], line 2\u001b[1;36m\u001b[0m\n\u001b[1;33m    $name1_ = \"Abhishek\"\u001b[0m\n\u001b[1;37m    ^\u001b[0m\n\u001b[1;31mSyntaxError\u001b[0m\u001b[1;31m:\u001b[0m invalid syntax\n"
     ]
    }
   ],
   "source": [
    "name = \"Daniel\"\n",
    "name1_ = \"Abhishek\"\n",
    "_name = \"Srihari\"\n",
    "_ = \"Ramesh\"\n",
    "_name"
   ]
  },
  {
   "cell_type": "code",
   "execution_count": null,
   "id": "8ff9c5b4-7b92-445f-9d3e-dc73e17913f0",
   "metadata": {},
   "outputs": [],
   "source": [
    "data is of two types, categrical and numerical\n",
    " catgorical means nominal ordinal \n",
    "nominal is just names, no relations. oridnal has relation in names\n",
    "numerical has quantitative, continuous  interval ratio"
   ]
  },
  {
   "cell_type": "code",
   "execution_count": null,
   "id": "167d497c-29ea-4784-83b5-64c8e6063456",
   "metadata": {},
   "outputs": [],
   "source": []
  }
 ],
 "metadata": {
  "kernelspec": {
   "display_name": "Python 3 (ipykernel)",
   "language": "python",
   "name": "python3"
  },
  "language_info": {
   "codemirror_mode": {
    "name": "ipython",
    "version": 3
   },
   "file_extension": ".py",
   "mimetype": "text/x-python",
   "name": "python",
   "nbconvert_exporter": "python",
   "pygments_lexer": "ipython3",
   "version": "3.11.7"
  }
 },
 "nbformat": 4,
 "nbformat_minor": 5
}
